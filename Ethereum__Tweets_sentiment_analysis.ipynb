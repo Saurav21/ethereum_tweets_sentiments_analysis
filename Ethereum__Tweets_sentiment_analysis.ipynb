{
  "nbformat": 4,
  "nbformat_minor": 0,
  "metadata": {
    "colab": {
      "name": "Ethereum _Tweets_sentiment_analysis.ipynb",
      "provenance": [],
      "collapsed_sections": []
    },
    "kernelspec": {
      "name": "python3",
      "display_name": "Python 3"
    },
    "language_info": {
      "name": "python"
    }
  },
  "cells": [
    {
      "cell_type": "code",
      "metadata": {
        "id": "kme8rIMcERwc"
      },
      "source": [
        "from google.colab import files\n",
        "files.upload()"
      ],
      "execution_count": null,
      "outputs": []
    },
    {
      "cell_type": "code",
      "metadata": {
        "id": "Gi63LzV1ERzT"
      },
      "source": [
        "! mkdir ~/.kaggle"
      ],
      "execution_count": 2,
      "outputs": []
    },
    {
      "cell_type": "code",
      "metadata": {
        "id": "_5WpNvsaER2M"
      },
      "source": [
        "! cp kaggle.json ~/.kaggle"
      ],
      "execution_count": 3,
      "outputs": []
    },
    {
      "cell_type": "code",
      "metadata": {
        "id": "ck12-WefER5J"
      },
      "source": [
        "! chmod 600 ~/.kaggle/kaggle.json"
      ],
      "execution_count": 4,
      "outputs": []
    },
    {
      "cell_type": "code",
      "metadata": {
        "colab": {
          "base_uri": "https://localhost:8080/"
        },
        "id": "6BP9X4lgER7-",
        "outputId": "6c1300f1-ded5-473a-fd00-39ef25368a85"
      },
      "source": [
        "!kaggle datasets download -d mathurinache/ethereum-tweets"
      ],
      "execution_count": 5,
      "outputs": [
        {
          "output_type": "stream",
          "name": "stdout",
          "text": [
            "Downloading ethereum-tweets.zip to /content\n",
            "\r  0% 0.00/1.35M [00:00<?, ?B/s]\n",
            "\r100% 1.35M/1.35M [00:00<00:00, 91.6MB/s]\n"
          ]
        }
      ]
    },
    {
      "cell_type": "code",
      "metadata": {
        "id": "v-ehoJbtER-u"
      },
      "source": [
        "import zipfile\n",
        "\n",
        "unzip = zipfile.ZipFile(\"ethereum-tweets.zip\",\"r\")\n",
        "unzip.extractall()\n",
        "unzip.close()"
      ],
      "execution_count": 7,
      "outputs": []
    },
    {
      "cell_type": "code",
      "metadata": {
        "id": "nG9vhijBESBj"
      },
      "source": [
        "import pandas as pd\n",
        "\n",
        "data = pd.read_csv(\"Ethereum_tweets.csv\")"
      ],
      "execution_count": 103,
      "outputs": []
    },
    {
      "cell_type": "code",
      "metadata": {
        "colab": {
          "base_uri": "https://localhost:8080/",
          "height": 398
        },
        "id": "Yh-q7jYsESEV",
        "outputId": "f7c8163f-5933-4a49-f3c0-7b6d6e9fb577"
      },
      "source": [
        "data.head()"
      ],
      "execution_count": 104,
      "outputs": [
        {
          "output_type": "execute_result",
          "data": {
            "text/html": [
              "<div>\n",
              "<style scoped>\n",
              "    .dataframe tbody tr th:only-of-type {\n",
              "        vertical-align: middle;\n",
              "    }\n",
              "\n",
              "    .dataframe tbody tr th {\n",
              "        vertical-align: top;\n",
              "    }\n",
              "\n",
              "    .dataframe thead th {\n",
              "        text-align: right;\n",
              "    }\n",
              "</style>\n",
              "<table border=\"1\" class=\"dataframe\">\n",
              "  <thead>\n",
              "    <tr style=\"text-align: right;\">\n",
              "      <th></th>\n",
              "      <th>user_name</th>\n",
              "      <th>user_location</th>\n",
              "      <th>user_description</th>\n",
              "      <th>user_created</th>\n",
              "      <th>user_followers</th>\n",
              "      <th>user_friends</th>\n",
              "      <th>user_favourites</th>\n",
              "      <th>user_verified</th>\n",
              "      <th>date</th>\n",
              "      <th>text</th>\n",
              "      <th>hashtags</th>\n",
              "      <th>source</th>\n",
              "      <th>is_retweet</th>\n",
              "    </tr>\n",
              "  </thead>\n",
              "  <tbody>\n",
              "    <tr>\n",
              "      <th>0</th>\n",
              "      <td>#1 Crypto Currency TRADING</td>\n",
              "      <td>NaN</td>\n",
              "      <td>Profit thought trading, Learn , Trade &amp; Earn💲....</td>\n",
              "      <td>2021-11-10 10:42:01+00:00</td>\n",
              "      <td>4</td>\n",
              "      <td>0</td>\n",
              "      <td>0</td>\n",
              "      <td>False</td>\n",
              "      <td>2021-11-15 07:26:39+00:00</td>\n",
              "      <td>Get upto 1000 that’s 10x with our premium spot...</td>\n",
              "      <td>NaN</td>\n",
              "      <td>Twitter for Android</td>\n",
              "      <td>False</td>\n",
              "    </tr>\n",
              "    <tr>\n",
              "      <th>1</th>\n",
              "      <td>Reyrey</td>\n",
              "      <td>Kuala Lumpur</td>\n",
              "      <td>Artist | NFT Broker &amp; Collector for AnideaNFT ...</td>\n",
              "      <td>2011-03-07 07:22:57+00:00</td>\n",
              "      <td>343</td>\n",
              "      <td>650</td>\n",
              "      <td>589</td>\n",
              "      <td>False</td>\n",
              "      <td>2021-11-15 07:26:35+00:00</td>\n",
              "      <td>Adopted a Hypocat #053, “Crazy Rich Cat” 🤑💵💵💵🤩...</td>\n",
              "      <td>['SupportingCreators', 'CryptoArt', 'CryptoArt...</td>\n",
              "      <td>Twitter for iPhone</td>\n",
              "      <td>False</td>\n",
              "    </tr>\n",
              "    <tr>\n",
              "      <th>2</th>\n",
              "      <td>akter jahan</td>\n",
              "      <td>NaN</td>\n",
              "      <td>NaN</td>\n",
              "      <td>2021-10-28 13:28:05+00:00</td>\n",
              "      <td>1</td>\n",
              "      <td>2</td>\n",
              "      <td>0</td>\n",
              "      <td>False</td>\n",
              "      <td>2021-11-15 07:26:32+00:00</td>\n",
              "      <td>Top 10 Coins by Social Engagement over the las...</td>\n",
              "      <td>['LunarCrush', 'bitcoin', 'dogecoin']</td>\n",
              "      <td>Twitter Web App</td>\n",
              "      <td>False</td>\n",
              "    </tr>\n",
              "    <tr>\n",
              "      <th>3</th>\n",
              "      <td>riyan</td>\n",
              "      <td>NaN</td>\n",
              "      <td>i always paricipated your project</td>\n",
              "      <td>2021-09-16 16:59:11+00:00</td>\n",
              "      <td>11</td>\n",
              "      <td>127</td>\n",
              "      <td>99</td>\n",
              "      <td>False</td>\n",
              "      <td>2021-11-15 07:26:30+00:00</td>\n",
              "      <td>Requesting faucet funds into 0x5278942b39deD8c...</td>\n",
              "      <td>['Rinkeby', 'Ethereum']</td>\n",
              "      <td>Twitter Web App</td>\n",
              "      <td>False</td>\n",
              "    </tr>\n",
              "    <tr>\n",
              "      <th>4</th>\n",
              "      <td>Michelle Eriksen</td>\n",
              "      <td>NaN</td>\n",
              "      <td>Art Creator, NFT, Crypto</td>\n",
              "      <td>2021-08-11 06:40:08+00:00</td>\n",
              "      <td>522</td>\n",
              "      <td>1428</td>\n",
              "      <td>16</td>\n",
              "      <td>False</td>\n",
              "      <td>2021-11-15 07:26:30+00:00</td>\n",
              "      <td>New Listing BTS 0.008ETH !! \\n#NFTs  #nftcolle...</td>\n",
              "      <td>['NFTs', 'nftcollector', 'NFTCommunity', 'art'...</td>\n",
              "      <td>Twitter Web App</td>\n",
              "      <td>False</td>\n",
              "    </tr>\n",
              "  </tbody>\n",
              "</table>\n",
              "</div>"
            ],
            "text/plain": [
              "                    user_name user_location  ...               source is_retweet\n",
              "0  #1 Crypto Currency TRADING           NaN  ...  Twitter for Android      False\n",
              "1                      Reyrey  Kuala Lumpur  ...   Twitter for iPhone      False\n",
              "2                 akter jahan           NaN  ...      Twitter Web App      False\n",
              "3                       riyan           NaN  ...      Twitter Web App      False\n",
              "4            Michelle Eriksen           NaN  ...      Twitter Web App      False\n",
              "\n",
              "[5 rows x 13 columns]"
            ]
          },
          "metadata": {},
          "execution_count": 104
        }
      ]
    },
    {
      "cell_type": "code",
      "metadata": {
        "colab": {
          "base_uri": "https://localhost:8080/"
        },
        "id": "VpXwmAZwESHb",
        "outputId": "99215b18-d497-4898-ab32-0f5bef965c91"
      },
      "source": [
        "data.info()"
      ],
      "execution_count": 105,
      "outputs": [
        {
          "output_type": "stream",
          "name": "stdout",
          "text": [
            "<class 'pandas.core.frame.DataFrame'>\n",
            "RangeIndex: 10000 entries, 0 to 9999\n",
            "Data columns (total 13 columns):\n",
            " #   Column            Non-Null Count  Dtype \n",
            "---  ------            --------------  ----- \n",
            " 0   user_name         10000 non-null  object\n",
            " 1   user_location     4961 non-null   object\n",
            " 2   user_description  8628 non-null   object\n",
            " 3   user_created      10000 non-null  object\n",
            " 4   user_followers    10000 non-null  int64 \n",
            " 5   user_friends      10000 non-null  int64 \n",
            " 6   user_favourites   10000 non-null  int64 \n",
            " 7   user_verified     10000 non-null  bool  \n",
            " 8   date              10000 non-null  object\n",
            " 9   text              10000 non-null  object\n",
            " 10  hashtags          7528 non-null   object\n",
            " 11  source            10000 non-null  object\n",
            " 12  is_retweet        10000 non-null  bool  \n",
            "dtypes: bool(2), int64(3), object(8)\n",
            "memory usage: 879.0+ KB\n"
          ]
        }
      ]
    },
    {
      "cell_type": "code",
      "metadata": {
        "colab": {
          "base_uri": "https://localhost:8080/"
        },
        "id": "zTumKHckESKb",
        "outputId": "18877986-9e39-4713-ae04-ad1263ddf61d"
      },
      "source": [
        "data.isnull().sum()"
      ],
      "execution_count": 106,
      "outputs": [
        {
          "output_type": "execute_result",
          "data": {
            "text/plain": [
              "user_name              0\n",
              "user_location       5039\n",
              "user_description    1372\n",
              "user_created           0\n",
              "user_followers         0\n",
              "user_friends           0\n",
              "user_favourites        0\n",
              "user_verified          0\n",
              "date                   0\n",
              "text                   0\n",
              "hashtags            2472\n",
              "source                 0\n",
              "is_retweet             0\n",
              "dtype: int64"
            ]
          },
          "metadata": {},
          "execution_count": 106
        }
      ]
    },
    {
      "cell_type": "code",
      "metadata": {
        "id": "0lpg38mGESNV"
      },
      "source": [
        "data = data.drop(data[[\"user_location\",\"user_description\",\"hashtags\",\"user_created\",\"user_followers\",\"user_friends\",\"user_favourites\",\"user_verified\",\"source\",\"is_retweet\"]], axis= 1)"
      ],
      "execution_count": 107,
      "outputs": []
    },
    {
      "cell_type": "code",
      "metadata": {
        "colab": {
          "base_uri": "https://localhost:8080/"
        },
        "id": "lM5vWXEYESP7",
        "outputId": "0d00dbcc-9d5e-406e-8f81-b94fc8ee41d9"
      },
      "source": [
        "data.isnull().sum()"
      ],
      "execution_count": 108,
      "outputs": [
        {
          "output_type": "execute_result",
          "data": {
            "text/plain": [
              "user_name    0\n",
              "date         0\n",
              "text         0\n",
              "dtype: int64"
            ]
          },
          "metadata": {},
          "execution_count": 108
        }
      ]
    },
    {
      "cell_type": "code",
      "metadata": {
        "colab": {
          "base_uri": "https://localhost:8080/",
          "height": 205
        },
        "id": "cddJQTh0ESTE",
        "outputId": "18226d6b-81e9-4109-bf1e-4fe3f7549ddd"
      },
      "source": [
        "data.head()"
      ],
      "execution_count": 109,
      "outputs": [
        {
          "output_type": "execute_result",
          "data": {
            "text/html": [
              "<div>\n",
              "<style scoped>\n",
              "    .dataframe tbody tr th:only-of-type {\n",
              "        vertical-align: middle;\n",
              "    }\n",
              "\n",
              "    .dataframe tbody tr th {\n",
              "        vertical-align: top;\n",
              "    }\n",
              "\n",
              "    .dataframe thead th {\n",
              "        text-align: right;\n",
              "    }\n",
              "</style>\n",
              "<table border=\"1\" class=\"dataframe\">\n",
              "  <thead>\n",
              "    <tr style=\"text-align: right;\">\n",
              "      <th></th>\n",
              "      <th>user_name</th>\n",
              "      <th>date</th>\n",
              "      <th>text</th>\n",
              "    </tr>\n",
              "  </thead>\n",
              "  <tbody>\n",
              "    <tr>\n",
              "      <th>0</th>\n",
              "      <td>#1 Crypto Currency TRADING</td>\n",
              "      <td>2021-11-15 07:26:39+00:00</td>\n",
              "      <td>Get upto 1000 that’s 10x with our premium spot...</td>\n",
              "    </tr>\n",
              "    <tr>\n",
              "      <th>1</th>\n",
              "      <td>Reyrey</td>\n",
              "      <td>2021-11-15 07:26:35+00:00</td>\n",
              "      <td>Adopted a Hypocat #053, “Crazy Rich Cat” 🤑💵💵💵🤩...</td>\n",
              "    </tr>\n",
              "    <tr>\n",
              "      <th>2</th>\n",
              "      <td>akter jahan</td>\n",
              "      <td>2021-11-15 07:26:32+00:00</td>\n",
              "      <td>Top 10 Coins by Social Engagement over the las...</td>\n",
              "    </tr>\n",
              "    <tr>\n",
              "      <th>3</th>\n",
              "      <td>riyan</td>\n",
              "      <td>2021-11-15 07:26:30+00:00</td>\n",
              "      <td>Requesting faucet funds into 0x5278942b39deD8c...</td>\n",
              "    </tr>\n",
              "    <tr>\n",
              "      <th>4</th>\n",
              "      <td>Michelle Eriksen</td>\n",
              "      <td>2021-11-15 07:26:30+00:00</td>\n",
              "      <td>New Listing BTS 0.008ETH !! \\n#NFTs  #nftcolle...</td>\n",
              "    </tr>\n",
              "  </tbody>\n",
              "</table>\n",
              "</div>"
            ],
            "text/plain": [
              "                    user_name  ...                                               text\n",
              "0  #1 Crypto Currency TRADING  ...  Get upto 1000 that’s 10x with our premium spot...\n",
              "1                      Reyrey  ...  Adopted a Hypocat #053, “Crazy Rich Cat” 🤑💵💵💵🤩...\n",
              "2                 akter jahan  ...  Top 10 Coins by Social Engagement over the las...\n",
              "3                       riyan  ...  Requesting faucet funds into 0x5278942b39deD8c...\n",
              "4            Michelle Eriksen  ...  New Listing BTS 0.008ETH !! \\n#NFTs  #nftcolle...\n",
              "\n",
              "[5 rows x 3 columns]"
            ]
          },
          "metadata": {},
          "execution_count": 109
        }
      ]
    },
    {
      "cell_type": "code",
      "metadata": {
        "colab": {
          "base_uri": "https://localhost:8080/"
        },
        "id": "f0SVKvaVGWzz",
        "outputId": "942e4fb5-db69-449b-eb4b-c52ad344d593"
      },
      "source": [
        "data[\"user_name\"].value_counts()"
      ],
      "execution_count": 110,
      "outputs": [
        {
          "output_type": "execute_result",
          "data": {
            "text/plain": [
              "REAL-TIME STOCK NEWS ALERT       174\n",
              "Stock Crypto News (Real-Time)    171\n",
              "SorareBot by SorareData           99\n",
              "frieslips.nft                     85\n",
              "Alireza Mirhadi                   83\n",
              "                                ... \n",
              "Tony                               1\n",
              "molisehao                          1\n",
              "md_sufee                           1\n",
              "Mosaic Shaman 🍄                    1\n",
              "doe                                1\n",
              "Name: user_name, Length: 4932, dtype: int64"
            ]
          },
          "metadata": {},
          "execution_count": 110
        }
      ]
    },
    {
      "cell_type": "code",
      "metadata": {
        "colab": {
          "base_uri": "https://localhost:8080/"
        },
        "id": "L2xlcSXOGlWD",
        "outputId": "71792657-9836-4fc4-dbd5-646570b9271b"
      },
      "source": [
        "data[\"text\"]"
      ],
      "execution_count": 111,
      "outputs": [
        {
          "output_type": "execute_result",
          "data": {
            "text/plain": [
              "0       Get upto 1000 that’s 10x with our premium spot...\n",
              "1       Adopted a Hypocat #053, “Crazy Rich Cat” 🤑💵💵💵🤩...\n",
              "2       Top 10 Coins by Social Engagement over the las...\n",
              "3       Requesting faucet funds into 0x5278942b39deD8c...\n",
              "4       New Listing BTS 0.008ETH !! \\n#NFTs  #nftcolle...\n",
              "                              ...                        \n",
              "9995    Pepe the gunman II\\n\\nhttps://t.co/xTOJSvLwX9 ...\n",
              "9996    @missteennfts 🔥 TOODLER 1:1 EDITION 🔥\\nPlease ...\n",
              "9997    Hello guys! mind to view my project at opensea...\n",
              "9998    Ethereum: One major misconception that will no...\n",
              "9999    Giovanni Simeone bought for 0.238 ETH (1100.25...\n",
              "Name: text, Length: 10000, dtype: object"
            ]
          },
          "metadata": {},
          "execution_count": 111
        }
      ]
    },
    {
      "cell_type": "markdown",
      "metadata": {
        "id": "u1tyOu1kRFp1"
      },
      "source": [
        "##**Processing the Data**"
      ]
    },
    {
      "cell_type": "code",
      "metadata": {
        "id": "I248JhmhQXhX"
      },
      "source": [
        "import re\n",
        "from gensim.parsing.preprocessing import remove_stopwords\n",
        "import string\n",
        "import unicodedata\n",
        "\n",
        "def lower_case(text):\n",
        "    return text.lower()\n",
        "\n",
        "def remove_punctuation(text):\n",
        "    text_list = [char for char in text if char not in string.punctuation]\n",
        "    clean_text = \"\".join(text_list)\n",
        "    return clean_text\n",
        "\n",
        "def remove_numbers(text):\n",
        "    text_list = []\n",
        "    for i in text:\n",
        "        if not re.search(\"\\d\", i):\n",
        "            text_list.append(i)\n",
        "    return \"\".join(text_list)\n",
        "\n",
        "def remove_special_char(text):\n",
        "    pat =  r'[^a-zA-z0-9]' \n",
        "    return re.sub(pat, \" \", text)\n",
        "\n",
        "def remove_square_bracket(text):\n",
        "    clean_text = re.sub(r'\\[[0-9]*\\]', ' ', text)\n",
        "    return clean_text\n",
        "\n",
        "def remove_white_spaces_char(text):\n",
        "    clean_text = re.sub(r'\\s+', ' ', text)\n",
        "    \n",
        "    return clean_text\n",
        "\n",
        "def remove_unicode_char(text):\n",
        "    new_text = unicodedata.normalize('NFKD', text).encode('ascii', 'ignore').decode('utf-8', 'ignore')\n",
        "    return new_text\n",
        "\n",
        "\n",
        "def remove_user(text):\n",
        "    clean_text = re.sub('(@[A-Za-z]+[A-Za-z0-9-_]+)', '', text)\n",
        "    \n",
        "    return clean_text\n",
        "\n",
        "def remove_links(text):\n",
        "    clean_text = re.sub(r'http\\S+', '', text)\n",
        "    clean_text = re.sub(r'bit.ly/\\S+', '', text)\n",
        "    clean_text = clean_text.strip('[link]')\n",
        "    \n",
        "    return clean_text\n",
        "\n",
        "def remove_html(text):\n",
        "    html = re.compile('<.*?>')\n",
        "    \n",
        "    return html.sub(r'',text)\n",
        "\n",
        "def remove_email(text):\n",
        "    email = re.compile(r'[\\w\\.-]+@[\\w\\.-]+')\n",
        "    return email.sub(r'',text)\n",
        "\n",
        "def remove_stopwords_from_text(text):\n",
        "    \n",
        "    clean_text = remove_stopwords(text)\n",
        "    \n",
        "    return clean_text\n"
      ],
      "execution_count": 112,
      "outputs": []
    },
    {
      "cell_type": "code",
      "metadata": {
        "id": "DsQY49Z2RNrd"
      },
      "source": [
        "data[\"clean_text\"] = data[\"text\"].apply(lower_case)\n",
        "data[\"clean_text\"] = data[\"clean_text\"].apply(remove_punctuation)\n",
        "data[\"clean_text\"] = data[\"clean_text\"].apply(remove_numbers)\n",
        "data[\"clean_text\"] = data[\"clean_text\"].apply(remove_special_char)\n",
        "data[\"clean_text\"] = data[\"clean_text\"].apply(remove_square_bracket)\n",
        "data[\"clean_text\"] = data[\"clean_text\"].apply(remove_white_spaces_char)\n",
        "data[\"clean_text\"] = data[\"clean_text\"].apply(remove_unicode_char)\n",
        "data[\"clean_text\"] = data[\"clean_text\"].apply(remove_user)\n",
        "data[\"clean_text\"] = data[\"clean_text\"].apply(remove_links)\n",
        "data[\"clean_text\"] = data[\"clean_text\"].apply(remove_html)\n",
        "data[\"clean_text\"] = data[\"clean_text\"].apply(remove_email)\n",
        "data[\"clean_text\"] = data[\"clean_text\"].apply(remove_stopwords_from_text)"
      ],
      "execution_count": 113,
      "outputs": []
    },
    {
      "cell_type": "code",
      "metadata": {
        "colab": {
          "base_uri": "https://localhost:8080/",
          "height": 292
        },
        "id": "KPEuf3BgRNom",
        "outputId": "e731e7e8-72d7-4776-f40e-9a570c156d7a"
      },
      "source": [
        "data.head()"
      ],
      "execution_count": 114,
      "outputs": [
        {
          "output_type": "execute_result",
          "data": {
            "text/html": [
              "<div>\n",
              "<style scoped>\n",
              "    .dataframe tbody tr th:only-of-type {\n",
              "        vertical-align: middle;\n",
              "    }\n",
              "\n",
              "    .dataframe tbody tr th {\n",
              "        vertical-align: top;\n",
              "    }\n",
              "\n",
              "    .dataframe thead th {\n",
              "        text-align: right;\n",
              "    }\n",
              "</style>\n",
              "<table border=\"1\" class=\"dataframe\">\n",
              "  <thead>\n",
              "    <tr style=\"text-align: right;\">\n",
              "      <th></th>\n",
              "      <th>user_name</th>\n",
              "      <th>date</th>\n",
              "      <th>text</th>\n",
              "      <th>clean_text</th>\n",
              "    </tr>\n",
              "  </thead>\n",
              "  <tbody>\n",
              "    <tr>\n",
              "      <th>0</th>\n",
              "      <td>#1 Crypto Currency TRADING</td>\n",
              "      <td>2021-11-15 07:26:39+00:00</td>\n",
              "      <td>Get upto 1000 that’s 10x with our premium spot...</td>\n",
              "      <td>upto s x premium spot trading signals accurate...</td>\n",
              "    </tr>\n",
              "    <tr>\n",
              "      <th>1</th>\n",
              "      <td>Reyrey</td>\n",
              "      <td>2021-11-15 07:26:35+00:00</td>\n",
              "      <td>Adopted a Hypocat #053, “Crazy Rich Cat” 🤑💵💵💵🤩...</td>\n",
              "      <td>adopted hypocat crazy rich cat hypocatclub meo...</td>\n",
              "    </tr>\n",
              "    <tr>\n",
              "      <th>2</th>\n",
              "      <td>akter jahan</td>\n",
              "      <td>2021-11-15 07:26:32+00:00</td>\n",
              "      <td>Top 10 Coins by Social Engagement over the las...</td>\n",
              "      <td>coins social engagement hrs lunarcrush btc bit...</td>\n",
              "    </tr>\n",
              "    <tr>\n",
              "      <th>3</th>\n",
              "      <td>riyan</td>\n",
              "      <td>2021-11-15 07:26:30+00:00</td>\n",
              "      <td>Requesting faucet funds into 0x5278942b39deD8c...</td>\n",
              "      <td>requesting faucet funds xbdedcbdadeaecefdca ri...</td>\n",
              "    </tr>\n",
              "    <tr>\n",
              "      <th>4</th>\n",
              "      <td>Michelle Eriksen</td>\n",
              "      <td>2021-11-15 07:26:30+00:00</td>\n",
              "      <td>New Listing BTS 0.008ETH !! \\n#NFTs  #nftcolle...</td>\n",
              "      <td>ew listing bts eth nfts nftcollector nftcommun...</td>\n",
              "    </tr>\n",
              "  </tbody>\n",
              "</table>\n",
              "</div>"
            ],
            "text/plain": [
              "                    user_name  ...                                         clean_text\n",
              "0  #1 Crypto Currency TRADING  ...  upto s x premium spot trading signals accurate...\n",
              "1                      Reyrey  ...  adopted hypocat crazy rich cat hypocatclub meo...\n",
              "2                 akter jahan  ...  coins social engagement hrs lunarcrush btc bit...\n",
              "3                       riyan  ...  requesting faucet funds xbdedcbdadeaecefdca ri...\n",
              "4            Michelle Eriksen  ...  ew listing bts eth nfts nftcollector nftcommun...\n",
              "\n",
              "[5 rows x 4 columns]"
            ]
          },
          "metadata": {},
          "execution_count": 114
        }
      ]
    },
    {
      "cell_type": "code",
      "metadata": {
        "id": "M1yfC1HrRNl2"
      },
      "source": [
        "data = data.drop(data[[\"user_name\",\"date\"]], axis = 1)"
      ],
      "execution_count": 115,
      "outputs": []
    },
    {
      "cell_type": "code",
      "metadata": {
        "colab": {
          "base_uri": "https://localhost:8080/",
          "height": 205
        },
        "id": "UtKHdE1cRNiu",
        "outputId": "fe8b7c5f-80e0-4b15-a27f-fcbbbcfd7a09"
      },
      "source": [
        "data.head()"
      ],
      "execution_count": 116,
      "outputs": [
        {
          "output_type": "execute_result",
          "data": {
            "text/html": [
              "<div>\n",
              "<style scoped>\n",
              "    .dataframe tbody tr th:only-of-type {\n",
              "        vertical-align: middle;\n",
              "    }\n",
              "\n",
              "    .dataframe tbody tr th {\n",
              "        vertical-align: top;\n",
              "    }\n",
              "\n",
              "    .dataframe thead th {\n",
              "        text-align: right;\n",
              "    }\n",
              "</style>\n",
              "<table border=\"1\" class=\"dataframe\">\n",
              "  <thead>\n",
              "    <tr style=\"text-align: right;\">\n",
              "      <th></th>\n",
              "      <th>text</th>\n",
              "      <th>clean_text</th>\n",
              "    </tr>\n",
              "  </thead>\n",
              "  <tbody>\n",
              "    <tr>\n",
              "      <th>0</th>\n",
              "      <td>Get upto 1000 that’s 10x with our premium spot...</td>\n",
              "      <td>upto s x premium spot trading signals accurate...</td>\n",
              "    </tr>\n",
              "    <tr>\n",
              "      <th>1</th>\n",
              "      <td>Adopted a Hypocat #053, “Crazy Rich Cat” 🤑💵💵💵🤩...</td>\n",
              "      <td>adopted hypocat crazy rich cat hypocatclub meo...</td>\n",
              "    </tr>\n",
              "    <tr>\n",
              "      <th>2</th>\n",
              "      <td>Top 10 Coins by Social Engagement over the las...</td>\n",
              "      <td>coins social engagement hrs lunarcrush btc bit...</td>\n",
              "    </tr>\n",
              "    <tr>\n",
              "      <th>3</th>\n",
              "      <td>Requesting faucet funds into 0x5278942b39deD8c...</td>\n",
              "      <td>requesting faucet funds xbdedcbdadeaecefdca ri...</td>\n",
              "    </tr>\n",
              "    <tr>\n",
              "      <th>4</th>\n",
              "      <td>New Listing BTS 0.008ETH !! \\n#NFTs  #nftcolle...</td>\n",
              "      <td>ew listing bts eth nfts nftcollector nftcommun...</td>\n",
              "    </tr>\n",
              "  </tbody>\n",
              "</table>\n",
              "</div>"
            ],
            "text/plain": [
              "                                                text                                         clean_text\n",
              "0  Get upto 1000 that’s 10x with our premium spot...  upto s x premium spot trading signals accurate...\n",
              "1  Adopted a Hypocat #053, “Crazy Rich Cat” 🤑💵💵💵🤩...  adopted hypocat crazy rich cat hypocatclub meo...\n",
              "2  Top 10 Coins by Social Engagement over the las...  coins social engagement hrs lunarcrush btc bit...\n",
              "3  Requesting faucet funds into 0x5278942b39deD8c...  requesting faucet funds xbdedcbdadeaecefdca ri...\n",
              "4  New Listing BTS 0.008ETH !! \\n#NFTs  #nftcolle...  ew listing bts eth nfts nftcollector nftcommun..."
            ]
          },
          "metadata": {},
          "execution_count": 116
        }
      ]
    },
    {
      "cell_type": "markdown",
      "metadata": {
        "id": "m6Ns-WviVxFu"
      },
      "source": [
        "##**Tweets Polarity**"
      ]
    },
    {
      "cell_type": "code",
      "metadata": {
        "id": "A7KNHBhURNf-"
      },
      "source": [
        "from textblob import TextBlob\n",
        "\n",
        "def finding_polarity(text):\n",
        "    clean_text = TextBlob(str(text))\n",
        "    pol = clean_text.sentiment.polarity\n",
        "    if(pol==0):\n",
        "        return \"Neutral\"\n",
        "    elif(pol>0 and pol<=0.3):\n",
        "        return \"Weakly Positive\"\n",
        "    elif(pol>0.3 and pol<=0.6):\n",
        "        return \"Positive\"\n",
        "    elif(pol>0.6 and pol<=1):\n",
        "        return \"Strongly Positive\"\n",
        "    elif(pol>-0.3 and pol<=0):\n",
        "        return \"Weakly Negative\"\n",
        "    elif(pol>-0.6 and pol<=-0.3):\n",
        "        return \"Negative\"\n",
        "    elif(pol>-1 and pol<=-0.6):\n",
        "        return \"Strongly Negative\""
      ],
      "execution_count": 117,
      "outputs": []
    },
    {
      "cell_type": "code",
      "metadata": {
        "id": "Q_Sq4RCwRNdG"
      },
      "source": [
        "data[\"polarity\"] = data[\"clean_text\"].apply(finding_polarity)"
      ],
      "execution_count": 118,
      "outputs": []
    },
    {
      "cell_type": "code",
      "metadata": {
        "colab": {
          "base_uri": "https://localhost:8080/",
          "height": 205
        },
        "id": "wJcdfRKcRNaF",
        "outputId": "d16870b7-2d22-454f-b1ab-8fb5b344e264"
      },
      "source": [
        "data.head()"
      ],
      "execution_count": 119,
      "outputs": [
        {
          "output_type": "execute_result",
          "data": {
            "text/html": [
              "<div>\n",
              "<style scoped>\n",
              "    .dataframe tbody tr th:only-of-type {\n",
              "        vertical-align: middle;\n",
              "    }\n",
              "\n",
              "    .dataframe tbody tr th {\n",
              "        vertical-align: top;\n",
              "    }\n",
              "\n",
              "    .dataframe thead th {\n",
              "        text-align: right;\n",
              "    }\n",
              "</style>\n",
              "<table border=\"1\" class=\"dataframe\">\n",
              "  <thead>\n",
              "    <tr style=\"text-align: right;\">\n",
              "      <th></th>\n",
              "      <th>text</th>\n",
              "      <th>clean_text</th>\n",
              "      <th>polarity</th>\n",
              "    </tr>\n",
              "  </thead>\n",
              "  <tbody>\n",
              "    <tr>\n",
              "      <th>0</th>\n",
              "      <td>Get upto 1000 that’s 10x with our premium spot...</td>\n",
              "      <td>upto s x premium spot trading signals accurate...</td>\n",
              "      <td>Weakly Positive</td>\n",
              "    </tr>\n",
              "    <tr>\n",
              "      <th>1</th>\n",
              "      <td>Adopted a Hypocat #053, “Crazy Rich Cat” 🤑💵💵💵🤩...</td>\n",
              "      <td>adopted hypocat crazy rich cat hypocatclub meo...</td>\n",
              "      <td>Weakly Negative</td>\n",
              "    </tr>\n",
              "    <tr>\n",
              "      <th>2</th>\n",
              "      <td>Top 10 Coins by Social Engagement over the las...</td>\n",
              "      <td>coins social engagement hrs lunarcrush btc bit...</td>\n",
              "      <td>Weakly Positive</td>\n",
              "    </tr>\n",
              "    <tr>\n",
              "      <th>3</th>\n",
              "      <td>Requesting faucet funds into 0x5278942b39deD8c...</td>\n",
              "      <td>requesting faucet funds xbdedcbdadeaecefdca ri...</td>\n",
              "      <td>Neutral</td>\n",
              "    </tr>\n",
              "    <tr>\n",
              "      <th>4</th>\n",
              "      <td>New Listing BTS 0.008ETH !! \\n#NFTs  #nftcolle...</td>\n",
              "      <td>ew listing bts eth nfts nftcollector nftcommun...</td>\n",
              "      <td>Neutral</td>\n",
              "    </tr>\n",
              "  </tbody>\n",
              "</table>\n",
              "</div>"
            ],
            "text/plain": [
              "                                                text  ...         polarity\n",
              "0  Get upto 1000 that’s 10x with our premium spot...  ...  Weakly Positive\n",
              "1  Adopted a Hypocat #053, “Crazy Rich Cat” 🤑💵💵💵🤩...  ...  Weakly Negative\n",
              "2  Top 10 Coins by Social Engagement over the las...  ...  Weakly Positive\n",
              "3  Requesting faucet funds into 0x5278942b39deD8c...  ...          Neutral\n",
              "4  New Listing BTS 0.008ETH !! \\n#NFTs  #nftcolle...  ...          Neutral\n",
              "\n",
              "[5 rows x 3 columns]"
            ]
          },
          "metadata": {},
          "execution_count": 119
        }
      ]
    },
    {
      "cell_type": "markdown",
      "metadata": {
        "id": "1zTe7O89a2Yl"
      },
      "source": [
        "##**Labeling the Tweets**"
      ]
    },
    {
      "cell_type": "code",
      "metadata": {
        "id": "uuv5JW_BRNF5"
      },
      "source": [
        "# categorizing the text\n",
        "\n",
        "from textblob import TextBlob\n",
        "\n",
        "def positive_negative(text):\n",
        "  clean_text = TextBlob(str(text))\n",
        "  pol = clean_text.sentiment.polarity\n",
        "\n",
        "  \n",
        "\n",
        "  if(pol==0):\n",
        "    return 1\n",
        "  elif(pol>0 and pol<=0.3):\n",
        "    return 1\n",
        "  elif(pol>0.3 and pol<=0.6):\n",
        "    return 1\n",
        "  elif(pol>0.6 and pol<=1):\n",
        "    return 1\n",
        "  elif(pol>-0.3 and pol<=0):\n",
        "    return 0\n",
        "  elif(pol>-0.6 and pol<=-0.3):\n",
        "    return 0\n",
        "  elif(pol>-1 and pol<=-0.6):\n",
        "    return 0\n"
      ],
      "execution_count": 120,
      "outputs": []
    },
    {
      "cell_type": "code",
      "metadata": {
        "id": "kkfyHOGnRNDR"
      },
      "source": [
        "\n",
        "data[\"label\"] = data[\"clean_text\"].apply(positive_negative)"
      ],
      "execution_count": 121,
      "outputs": []
    },
    {
      "cell_type": "code",
      "metadata": {
        "colab": {
          "base_uri": "https://localhost:8080/",
          "height": 205
        },
        "id": "YostdmsORNA2",
        "outputId": "d5e5db0c-ca11-47ec-de8d-7143da1f9f8f"
      },
      "source": [
        "data.head()"
      ],
      "execution_count": 122,
      "outputs": [
        {
          "output_type": "execute_result",
          "data": {
            "text/html": [
              "<div>\n",
              "<style scoped>\n",
              "    .dataframe tbody tr th:only-of-type {\n",
              "        vertical-align: middle;\n",
              "    }\n",
              "\n",
              "    .dataframe tbody tr th {\n",
              "        vertical-align: top;\n",
              "    }\n",
              "\n",
              "    .dataframe thead th {\n",
              "        text-align: right;\n",
              "    }\n",
              "</style>\n",
              "<table border=\"1\" class=\"dataframe\">\n",
              "  <thead>\n",
              "    <tr style=\"text-align: right;\">\n",
              "      <th></th>\n",
              "      <th>text</th>\n",
              "      <th>clean_text</th>\n",
              "      <th>polarity</th>\n",
              "      <th>label</th>\n",
              "    </tr>\n",
              "  </thead>\n",
              "  <tbody>\n",
              "    <tr>\n",
              "      <th>0</th>\n",
              "      <td>Get upto 1000 that’s 10x with our premium spot...</td>\n",
              "      <td>upto s x premium spot trading signals accurate...</td>\n",
              "      <td>Weakly Positive</td>\n",
              "      <td>1.0</td>\n",
              "    </tr>\n",
              "    <tr>\n",
              "      <th>1</th>\n",
              "      <td>Adopted a Hypocat #053, “Crazy Rich Cat” 🤑💵💵💵🤩...</td>\n",
              "      <td>adopted hypocat crazy rich cat hypocatclub meo...</td>\n",
              "      <td>Weakly Negative</td>\n",
              "      <td>0.0</td>\n",
              "    </tr>\n",
              "    <tr>\n",
              "      <th>2</th>\n",
              "      <td>Top 10 Coins by Social Engagement over the las...</td>\n",
              "      <td>coins social engagement hrs lunarcrush btc bit...</td>\n",
              "      <td>Weakly Positive</td>\n",
              "      <td>1.0</td>\n",
              "    </tr>\n",
              "    <tr>\n",
              "      <th>3</th>\n",
              "      <td>Requesting faucet funds into 0x5278942b39deD8c...</td>\n",
              "      <td>requesting faucet funds xbdedcbdadeaecefdca ri...</td>\n",
              "      <td>Neutral</td>\n",
              "      <td>1.0</td>\n",
              "    </tr>\n",
              "    <tr>\n",
              "      <th>4</th>\n",
              "      <td>New Listing BTS 0.008ETH !! \\n#NFTs  #nftcolle...</td>\n",
              "      <td>ew listing bts eth nfts nftcollector nftcommun...</td>\n",
              "      <td>Neutral</td>\n",
              "      <td>1.0</td>\n",
              "    </tr>\n",
              "  </tbody>\n",
              "</table>\n",
              "</div>"
            ],
            "text/plain": [
              "                                                text  ... label\n",
              "0  Get upto 1000 that’s 10x with our premium spot...  ...   1.0\n",
              "1  Adopted a Hypocat #053, “Crazy Rich Cat” 🤑💵💵💵🤩...  ...   0.0\n",
              "2  Top 10 Coins by Social Engagement over the las...  ...   1.0\n",
              "3  Requesting faucet funds into 0x5278942b39deD8c...  ...   1.0\n",
              "4  New Listing BTS 0.008ETH !! \\n#NFTs  #nftcolle...  ...   1.0\n",
              "\n",
              "[5 rows x 4 columns]"
            ]
          },
          "metadata": {},
          "execution_count": 122
        }
      ]
    },
    {
      "cell_type": "code",
      "metadata": {
        "colab": {
          "base_uri": "https://localhost:8080/"
        },
        "id": "D2IG3StwRM9Y",
        "outputId": "33b8b2f7-6339-47a7-bdd3-ede63366f0fd"
      },
      "source": [
        "data[\"label\"].value_counts()"
      ],
      "execution_count": 102,
      "outputs": [
        {
          "output_type": "execute_result",
          "data": {
            "text/plain": [
              "1.0    8282\n",
              "0.0    1640\n",
              "Name: label, dtype: int64"
            ]
          },
          "metadata": {},
          "execution_count": 102
        }
      ]
    },
    {
      "cell_type": "code",
      "metadata": {
        "id": "VB-euxbYamLZ"
      },
      "source": [
        "length = sum([len(word.split()) for word in data[\"clean_text\"]])"
      ],
      "execution_count": 132,
      "outputs": []
    },
    {
      "cell_type": "code",
      "metadata": {
        "colab": {
          "base_uri": "https://localhost:8080/"
        },
        "id": "fTRmATr5amC3",
        "outputId": "46c53cee-a6c2-4d4e-bc8d-1221e521eba3"
      },
      "source": [
        "length"
      ],
      "execution_count": 133,
      "outputs": [
        {
          "output_type": "execute_result",
          "data": {
            "text/plain": [
              "176391"
            ]
          },
          "metadata": {},
          "execution_count": 133
        }
      ]
    },
    {
      "cell_type": "code",
      "metadata": {
        "id": "3sohTpwQRM6l"
      },
      "source": [
        "# text vectorizing\n",
        "\n",
        "from sklearn.feature_extraction.text import TfidfVectorizer\n",
        "\n",
        "vectorizer = TfidfVectorizer(max_features= 3500)\n",
        "\n",
        "x = vectorizer.fit_transform(data[\"clean_text\"]).toarray()\n",
        "\n",
        "y = data[\"label\"].values.astype(\"int\")"
      ],
      "execution_count": 151,
      "outputs": []
    },
    {
      "cell_type": "code",
      "metadata": {
        "colab": {
          "base_uri": "https://localhost:8080/"
        },
        "id": "5_hSAlFjamOr",
        "outputId": "2d594ed3-3ba4-464b-ca2e-a543fef42044"
      },
      "source": [
        "x.shape, y.shape"
      ],
      "execution_count": 152,
      "outputs": [
        {
          "output_type": "execute_result",
          "data": {
            "text/plain": [
              "((10000, 3500), (10000,))"
            ]
          },
          "metadata": {},
          "execution_count": 152
        }
      ]
    },
    {
      "cell_type": "code",
      "metadata": {
        "id": "mE8bSvMdamAB"
      },
      "source": [
        "# splitting the data\n",
        "\n",
        "from sklearn.model_selection import train_test_split\n",
        "\n",
        "x_train, x_test, y_train, y_test = train_test_split(x,y, test_size= 0.25, random_state= 42)"
      ],
      "execution_count": 153,
      "outputs": []
    },
    {
      "cell_type": "code",
      "metadata": {
        "colab": {
          "base_uri": "https://localhost:8080/"
        },
        "id": "E-ZrQepzal8N",
        "outputId": "7d7da3db-d84a-4c8c-f747-a16ad306acdb"
      },
      "source": [
        "x_train.shape, x_test.shape, y_train.shape, y_test.shape"
      ],
      "execution_count": 154,
      "outputs": [
        {
          "output_type": "execute_result",
          "data": {
            "text/plain": [
              "((7500, 3500), (2500, 3500), (7500,), (2500,))"
            ]
          },
          "metadata": {},
          "execution_count": 154
        }
      ]
    },
    {
      "cell_type": "markdown",
      "metadata": {
        "id": "meXYzxLtmCSn"
      },
      "source": [
        "##**Naive Bayes Classifier**"
      ]
    },
    {
      "cell_type": "code",
      "metadata": {
        "colab": {
          "base_uri": "https://localhost:8080/"
        },
        "id": "3PzxgkpKal43",
        "outputId": "8c4ea433-2fd7-4c13-8182-fc271ec01afc"
      },
      "source": [
        "from sklearn.naive_bayes import GaussianNB\n",
        "\n",
        "nav_model = GaussianNB()\n",
        "\n",
        "nav_model.fit(x_train,y_train)\n",
        "\n"
      ],
      "execution_count": 161,
      "outputs": [
        {
          "output_type": "execute_result",
          "data": {
            "text/plain": [
              "GaussianNB()"
            ]
          },
          "metadata": {},
          "execution_count": 161
        }
      ]
    },
    {
      "cell_type": "code",
      "metadata": {
        "colab": {
          "base_uri": "https://localhost:8080/"
        },
        "id": "GqnYjo62al1p",
        "outputId": "b88ecee0-176c-4185-aae4-949d4036ca99"
      },
      "source": [
        "print(f\"Training Accuracy : {nav_model.score(x_train,y_train) * 100 : 0.2f} %\")\n",
        "print(f\"Test Accuracy : {nav_model.score(x_test,y_test)* 100 : 0.2f} %\")"
      ],
      "execution_count": 162,
      "outputs": [
        {
          "output_type": "stream",
          "name": "stdout",
          "text": [
            "Training Accuracy :  85.25 %\n",
            "Test Accuracy :  80.68 %\n"
          ]
        }
      ]
    },
    {
      "cell_type": "markdown",
      "metadata": {
        "id": "QqCVtGfeoG_a"
      },
      "source": [
        "##**Support Vector Machine**"
      ]
    },
    {
      "cell_type": "code",
      "metadata": {
        "colab": {
          "base_uri": "https://localhost:8080/"
        },
        "id": "JbZ1gBSQl7iN",
        "outputId": "fb6ffaa2-3976-401d-f15d-4c1ea6d3dc5d"
      },
      "source": [
        "from sklearn.svm import SVC\n",
        "\n",
        "svc_model = SVC()\n",
        "\n",
        "svc_model.fit(x_test,y_test)\n",
        "\n"
      ],
      "execution_count": 163,
      "outputs": [
        {
          "output_type": "execute_result",
          "data": {
            "text/plain": [
              "SVC()"
            ]
          },
          "metadata": {},
          "execution_count": 163
        }
      ]
    },
    {
      "cell_type": "code",
      "metadata": {
        "colab": {
          "base_uri": "https://localhost:8080/"
        },
        "id": "N2BkyS1vl7Uv",
        "outputId": "c45df0bd-207a-456c-d922-66bbc950c66b"
      },
      "source": [
        "print(f\"Training Accuracy: {svc_model.score(x_train, y_train)*100 : 0.2f} %\")\n",
        "print(f\"Test Accuracy: {svc_model.score(x_test,y_test) * 100 : 0.2f} %\")"
      ],
      "execution_count": 164,
      "outputs": [
        {
          "output_type": "stream",
          "name": "stdout",
          "text": [
            "Training Accuracy:  94.33 %\n",
            "Test Accuracy:  97.16 %\n"
          ]
        }
      ]
    },
    {
      "cell_type": "code",
      "metadata": {
        "id": "UpdS644UpbN9"
      },
      "source": [
        ""
      ],
      "execution_count": null,
      "outputs": []
    }
  ]
}